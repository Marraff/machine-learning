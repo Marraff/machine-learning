{
 "cells": [
  {
   "cell_type": "code",
   "execution_count": 11,
   "metadata": {},
   "outputs": [],
   "source": [
    "import pandas as pd\n",
    "import numpy as np\n",
    "import plotly.express as px\n",
    "import plotly.graph_objects as go\n",
    "import sweetviz as sv\n",
    "import plotly.graph_objs as pg\n",
    "import plotly.figure_factory as ffc\n",
    "from tensorflow import keras\n",
    "from plotly.subplots import make_subplots\n",
    "from sklearn.preprocessing import MinMaxScaler\n",
    "from sklearn.linear_model import LogisticRegression\n",
    "from sklearn.metrics import classification_report, confusion_matrix"
   ]
  },
  {
   "cell_type": "code",
   "execution_count": 19,
   "metadata": {},
   "outputs": [
    {
     "name": "stdout",
     "output_type": "stream",
     "text": [
      "Unique words: ['partly cloudy' 'clear' 'overcast' 'cloudy']\n",
      "Number of unique words: 4\n",
      "   Temperature  Humidity  Wind Speed  Precipitation (%)    Cloud Cover  \\\n",
      "0         14.0      73.0         9.5               82.0  partly cloudy   \n",
      "1         39.0      96.0         8.5               71.0  partly cloudy   \n",
      "2         30.0      64.0         7.0               16.0          clear   \n",
      "3         38.0      83.0         1.5               82.0          clear   \n",
      "4         27.0      74.0        17.0               66.0       overcast   \n",
      "5         32.0      55.0         3.5               26.0       overcast   \n",
      "6         -2.0      97.0         8.0               86.0       overcast   \n",
      "7          3.0      85.0         6.0               96.0  partly cloudy   \n",
      "8          3.0      83.0         6.0               66.0       overcast   \n",
      "9         28.0      74.0         8.5              107.0          clear   \n",
      "\n",
      "   Atmospheric Pressure UV Index  Season  Visibility (km)  Location  \\\n",
      "0               1010.82      2.0  Winter              3.5    inland   \n",
      "1               1011.43      7.0  Spring             10.0    inland   \n",
      "2               1018.72      5.0  Spring              5.5  mountain   \n",
      "3               1026.25      7.0  Spring              1.0   coastal   \n",
      "4                990.67      1.0  Winter              2.5  mountain   \n",
      "5               1010.03      2.0  Summer              5.0    inland   \n",
      "6                990.87      1.0  Winter              4.0    inland   \n",
      "7                984.46      1.0  Winter              3.5    inland   \n",
      "8                999.44      0.0  Winter              1.0  mountain   \n",
      "9               1012.13      8.0  Winter              7.5   coastal   \n",
      "\n",
      "  Weather Type  Cloud Cover Encodednnnnnnnnnnn  \n",
      "0        Rainy                               0  \n",
      "1       Cloudy                               0  \n",
      "2        Sunny                               1  \n",
      "3        Sunny                               1  \n",
      "4        Rainy                               2  \n",
      "5       Cloudy                               2  \n",
      "6        Snowy                               2  \n",
      "7        Snowy                               0  \n",
      "8        Snowy                               2  \n",
      "9        Sunny                               1  \n"
     ]
    }
   ],
   "source": [
    "def process_data():\n",
    "\n",
    "    train_data = pd.read_csv(\"weather_data.csv\")\n",
    "    test_data = pd.read_csv(\"weather_data.csv\")\n",
    "\n",
    "    #-----------TRENOVACIE DATA--------------#\n",
    "\n",
    "    # najskor pridam do irradiance vsade 0 aby sa neodstranilo prilis vela zaznamov\n",
    "    train_data[\"Irradiance\"] = train_data[\"Irradiance\"].fillna(0.0)\n",
    "\n",
    "    # odstranenie prazdnych zaznamov\n",
    "    train_data = train_data.dropna()\n",
    "    train_data = train_data.drop_duplicates(keep='first')\n",
    "    train_data = train_data.fillna(0)\n",
    "\n",
    "    train_data = train_data.drop('Irradiance', axis=1)\n",
    "    \n",
    "\n",
    "    # zistenie kolko roznych druhov Cloud Cover sa nachadza v DB a ich zakodovnie\n",
    "    # Cloud Cover sme si vybrali druh kodovanie: Label Encoding \n",
    "    unique_values = train_data['Cloud Cover'].unique()\n",
    "    print(f\"Unique words: {unique_values}\")\n",
    "    print(f\"Number of unique words: {len(unique_values)}\")\n",
    "\n",
    "    train_data['Cloud Cover Encoded'] = pd.factorize(train_data['Cloud Cover'])[0]\n",
    "    print(train_data.head(10))\n",
    "\n",
    "    # na stlpec season sme vybrali druh zakódovanie One-Hot Encoding\n",
    "\n",
    "process_data()"
   ]
  },
  {
   "cell_type": "code",
   "execution_count": 13,
   "metadata": {},
   "outputs": [
    {
     "ename": "NameError",
     "evalue": "name 'train_data' is not defined",
     "output_type": "error",
     "traceback": [
      "\u001b[1;31m---------------------------------------------------------------------------\u001b[0m",
      "\u001b[1;31mNameError\u001b[0m                                 Traceback (most recent call last)",
      "Cell \u001b[1;32mIn [13], line 1\u001b[0m\n\u001b[1;32m----> 1\u001b[0m train_data \u001b[38;5;241m=\u001b[39m train_data\u001b[38;5;241m.\u001b[39mdrop(\u001b[38;5;124m'\u001b[39m\u001b[38;5;124mIrradiance\u001b[39m\u001b[38;5;124m'\u001b[39m, axis\u001b[38;5;241m=\u001b[39m\u001b[38;5;241m1\u001b[39m)\n\u001b[0;32m      2\u001b[0m \u001b[38;5;28mprint\u001b[39m(train_data\u001b[38;5;241m.\u001b[39mhead(\u001b[38;5;241m10\u001b[39m))\n",
      "\u001b[1;31mNameError\u001b[0m: name 'train_data' is not defined"
     ]
    }
   ],
   "source": [
    "\n",
    "train_data = train_data.drop('Irradiance', axis=1)\n",
    "print(train_data.head(10))"
   ]
  }
 ],
 "metadata": {
  "kernelspec": {
   "display_name": "Python 3",
   "language": "python",
   "name": "python3"
  },
  "language_info": {
   "codemirror_mode": {
    "name": "ipython",
    "version": 3
   },
   "file_extension": ".py",
   "mimetype": "text/x-python",
   "name": "python",
   "nbconvert_exporter": "python",
   "pygments_lexer": "ipython3",
   "version": "3.10.0"
  }
 },
 "nbformat": 4,
 "nbformat_minor": 2
}
