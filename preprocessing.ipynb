{
 "cells": [
  {
   "cell_type": "code",
   "execution_count": 133,
   "metadata": {},
   "outputs": [],
   "source": [
    "import pandas as pd\n",
    "import numpy as np\n",
    "import plotly.express as px\n",
    "import plotly.graph_objects as go\n",
    "import sweetviz as sv\n",
    "import plotly.graph_objs as pg\n",
    "import plotly.figure_factory as ffc\n",
    "from tensorflow import keras\n",
    "import matplotlib.pyplot as plt\n",
    "import seaborn as sns\n",
    "from plotly.subplots import make_subplots\n",
    "from sklearn.preprocessing import MinMaxScaler, StandardScaler\n",
    "from sklearn.linear_model import LogisticRegression\n",
    "from sklearn.model_selection import train_test_split\n",
    "from sklearn.metrics import classification_report, confusion_matrix"
   ]
  },
  {
   "cell_type": "code",
   "execution_count": 118,
   "metadata": {},
   "outputs": [
    {
     "name": "stdout",
     "output_type": "stream",
     "text": [
      "There are: 277 null values in dataset\n",
      "Temperature             44\n",
      "Humidity                35\n",
      "Wind Speed              38\n",
      "Precipitation (%)       33\n",
      "Cloud Cover              0\n",
      "Atmospheric Pressure    44\n",
      "UV Index                36\n",
      "Season                   0\n",
      "Visibility (km)         47\n",
      "Location                 0\n",
      "Weather Type             0\n",
      "Irradiance               0\n",
      "dtype: int64\n"
     ]
    }
   ],
   "source": [
    " #-----------SPRACOVANIE DAT--------------#\n",
    "\n",
    "df = pd.read_csv(\"weather_data.csv\")\n",
    "test_data = pd.read_csv(\"weather_data.csv\")\n",
    "\n",
    "# najskor pridam do irradiance vsade 0 aby sa neodstranilo prilis vela zaznamov\n",
    "\n",
    "df[\"Irradiance\"] = df[\"Irradiance\"].fillna(0.0)\n",
    "\n",
    "# zistili sme ze v nasom datasete sa nachádza 277 null hodnôt okrem (stlpca Irradiance)\n",
    "# pre dataset nasich rozmerov je to pomerne mali pocet zaznamov a preto sme sa \n",
    "# ich rozhodli odstranit\n",
    "print(f\"There are: {df.isnull().sum().sum()} null values in dataset\")\n",
    "\n",
    "print(df.isnull().sum())\n",
    "\n",
    "# odstranenie prazdnych zaznamov\n",
    "df = df.dropna()\n",
    "df = df.drop_duplicates(keep='first')\n",
    "df = df.fillna(0)\n",
    "\n",
    "df = df.drop('Irradiance', axis=1)\n"
   ]
  },
  {
   "cell_type": "code",
   "execution_count": 119,
   "metadata": {},
   "outputs": [
    {
     "name": "stdout",
     "output_type": "stream",
     "text": [
      "Unique words: ['partly cloudy' 'clear' 'overcast' 'cloudy']\n",
      "Number of unique words cloud: 4\n",
      "Unique words: ['inland' 'mountain' 'coastal' 'island']\n",
      "Number of unique words location: 4\n"
     ]
    }
   ],
   "source": [
    "# zistenie kolko roznych druhov Cloud Cover sa nachadza v DB a ich zakodovnie\n",
    "# Cloud Cover sme si vybrali druh kodovanie: Label Encoding \n",
    "\n",
    "unique_values_cloud = df['Cloud Cover'].unique()\n",
    "print(f\"Unique words: {unique_values_cloud}\")\n",
    "print(f\"Number of unique words cloud: {len(unique_values_cloud)}\")\n",
    "\n",
    "df['Cloud Cover Encoded'] = pd.factorize(df['Cloud Cover'])[0]\n",
    "\n",
    "#unique_values_weather = df['Weather Type'].unique()\n",
    "#print(f\"Unique words: {unique_values_weather}\")\n",
    "#print(f\"Number of unique words weather: {len(unique_values_weather)}\")\n",
    "\n",
    "#df['Weather Type Encoded'] = pd.factorize(df['Weather Type'])[0]\n",
    "\n",
    "unique_values_location = df['Location'].unique()\n",
    "print(f\"Unique words: {unique_values_location}\")\n",
    "print(f\"Number of unique words location: {len(unique_values_location)}\")\n",
    "\n",
    "# na stlpec season sme vybrali druh zakódovania One-Hot Encoding\n",
    "\n",
    "df_one_hot = pd.get_dummies(df['Season'], prefix='Season')\n",
    "df = pd.concat([df, df_one_hot], axis = 1)\n"
   ]
  },
  {
   "cell_type": "code",
   "execution_count": 120,
   "metadata": {},
   "outputs": [
    {
     "name": "stdout",
     "output_type": "stream",
     "text": [
      "Number of records in dataset: 12925\n",
      "There are: 0 duplicates.\n"
     ]
    }
   ],
   "source": [
    "# Vyhľadanie duplicitných záznamov\n",
    "\n",
    "duplicate = df[df.duplicated()]\n",
    "df = df.drop_duplicates()\n",
    "print(\"Number of records in dataset: \"+str(len(df)))\n",
    "print(\"There are: \" + str(len(duplicate)) + \" duplicates.\")\n",
    "\n"
   ]
  },
  {
   "cell_type": "code",
   "execution_count": 121,
   "metadata": {},
   "outputs": [
    {
     "name": "stdout",
     "output_type": "stream",
     "text": [
      "        Temperature      Humidity    Wind Speed  Precipitation (%)  \\\n",
      "count  11406.000000  11406.000000  11406.000000       11406.000000   \n",
      "mean      19.087933     69.390496      9.213309          51.887983   \n",
      "std       15.928408     19.200396      5.611486          31.891207   \n",
      "min      -24.000000     20.000000      0.000000           0.000000   \n",
      "25%        7.000000     59.000000      5.000000          18.000000   \n",
      "50%       22.000000     70.000000      8.500000          56.000000   \n",
      "75%       30.000000     84.000000     13.500000          81.000000   \n",
      "max       71.000000    100.000000     26.000000         100.000000   \n",
      "\n",
      "       Atmospheric Pressure  Visibility (km)  Cloud Cover Encoded  \\\n",
      "count          11406.000000     11406.000000         11406.000000   \n",
      "mean            1006.259216         5.109459             1.129055   \n",
      "std               12.932154         2.609789             0.905632   \n",
      "min              962.880000        -3.010798             0.000000   \n",
      "25%              995.812500         3.000000             0.000000   \n",
      "50%             1007.855000         5.000000             1.000000   \n",
      "75%             1016.290000         7.500000             2.000000   \n",
      "max             1048.570000        14.000000             3.000000   \n",
      "\n",
      "       Season_Autumn  Season_Spring  Season_Summer  Season_Winter  \n",
      "count   11406.000000   11406.000000   11406.000000   11406.000000  \n",
      "mean        0.183763       0.191654       0.185779       0.438804  \n",
      "std         0.387308       0.393619       0.388946       0.496263  \n",
      "min         0.000000       0.000000       0.000000       0.000000  \n",
      "25%         0.000000       0.000000       0.000000       0.000000  \n",
      "50%         0.000000       0.000000       0.000000       0.000000  \n",
      "75%         0.000000       0.000000       0.000000       1.000000  \n",
      "max         1.000000       1.000000       1.000000       1.000000  \n"
     ]
    }
   ],
   "source": [
    "# Teraz potrebujeme odstrániť outliery v stĺpcos v ktorých boli originálne numerické hodnoty\n",
    "\n",
    "numeric_columns = ['Temperature', 'Humidity', 'Wind Speed', 'Precipitation (%)'\n",
    "                   , 'Atmospheric Pressure', 'Visibility (km)'\n",
    "                  ]\n",
    "# Identifikovanie outlierov na zaklade metody IQR\n",
    "def detect_outliers(df, column):\n",
    "    Q1 = df[column].quantile(0.25)\n",
    "    Q3 = df[column].quantile(0.75)\n",
    "    IQR = Q3 - Q1\n",
    "    lower_bound = Q1 - 1.5 * IQR\n",
    "    upper_bound = Q3 + 1.5 * IQR\n",
    "    outliers = df[(df[column] < lower_bound) | (df[column] > upper_bound)]\n",
    "    return outliers\n",
    "\n",
    "# nakreslenie boxplotov pre outliery v jednotlivych stlpcoch\n",
    "\n",
    "#for column in numeric_columns:\n",
    "#    plt.figure(figsize=(10, 5))\n",
    "#    sns.boxplot(x=train_data[column])\n",
    "#    plt.title(f\"Boxplot of {column}\")\n",
    "#    plt.show()\n",
    "\n",
    "# zistili sme ze v nasom datasete sa nenachadzaju outliery\n",
    "for column in numeric_columns:\n",
    "    outliers = detect_outliers(df, column)\n",
    "    # Remove the outliers\n",
    "    df = df[(df[column] >= df[column].quantile(0.25) - 1.5 * (df[column].quantile(0.75) - df[column].quantile(0.25))) & \n",
    "            (df[column] <= df[column].quantile(0.75) + 1.5 * (df[column].quantile(0.75) - df[column].quantile(0.25)))]\n",
    "\n",
    "# po vypisani stats sme aj tak nasli viacere nejasnosti ako vlhkosť väčšia ako 100%, podozrivo vysoká teplota 66C (vyhodnotili sme ako vporiadku)\n",
    "# množstvo zrážok -60\n",
    "\n",
    "# tymto hodnotam sme dali fixne max a min \n",
    "df['Humidity'] = df['Humidity'].clip(lower=0, upper=100)\n",
    "df['Precipitation (%)'] = df['Precipitation (%)'].clip(lower=0, upper=100)\n",
    "\n",
    "# kontrola datasetu, hodnoty vyzeraju v norme\n",
    "print(df.describe())\n",
    "\n"
   ]
  },
  {
   "cell_type": "code",
   "execution_count": 122,
   "metadata": {},
   "outputs": [
    {
     "name": "stdout",
     "output_type": "stream",
     "text": [
      "        Temperature      Humidity    Wind Speed  Precipitation (%)  \\\n",
      "count  11406.000000  11406.000000  11406.000000       11406.000000   \n",
      "mean      19.087933     69.390496      9.213309          51.887983   \n",
      "std       15.928408     19.200396      5.611486          31.891207   \n",
      "min      -24.000000     20.000000      0.000000           0.000000   \n",
      "25%        7.000000     59.000000      5.000000          18.000000   \n",
      "50%       22.000000     70.000000      8.500000          56.000000   \n",
      "75%       30.000000     84.000000     13.500000          81.000000   \n",
      "max       71.000000    100.000000     26.000000         100.000000   \n",
      "\n",
      "       Atmospheric Pressure  Visibility (km)  Cloud Cover Encoded  \\\n",
      "count          11406.000000     11406.000000         11406.000000   \n",
      "mean            1006.259216         5.109459             1.129055   \n",
      "std               12.932154         2.609789             0.905632   \n",
      "min              962.880000        -3.010798             0.000000   \n",
      "25%              995.812500         3.000000             0.000000   \n",
      "50%             1007.855000         5.000000             1.000000   \n",
      "75%             1016.290000         7.500000             2.000000   \n",
      "max             1048.570000        14.000000             3.000000   \n",
      "\n",
      "       Season_Autumn  Season_Spring  Season_Summer  Season_Winter  \n",
      "count   11406.000000   11406.000000   11406.000000   11406.000000  \n",
      "mean        0.183763       0.191654       0.185779       0.438804  \n",
      "std         0.387308       0.393619       0.388946       0.496263  \n",
      "min         0.000000       0.000000       0.000000       0.000000  \n",
      "25%         0.000000       0.000000       0.000000       0.000000  \n",
      "50%         0.000000       0.000000       0.000000       0.000000  \n",
      "75%         0.000000       0.000000       0.000000       1.000000  \n",
      "max         1.000000       1.000000       1.000000       1.000000  \n"
     ]
    }
   ],
   "source": [
    "df = df.drop(columns=[ 'Season', 'Location'])\n",
    "\n",
    "print(df.describe())\n",
    "\n",
    "\n",
    "# funkcia zabezpecujuca normalizaciu pouzitim MinMaxScaler kniznice\n",
    "#def normalization(df):\n",
    "#    for col in df.columns:\n",
    "#        df[col] = MinMaxScaler().fit_transform(np.array(df[col]).reshape(-1, 1))\n",
    "\n",
    "# normalizacia trenovacich dat\n",
    "\n",
    "#normalization(df)\n",
    "\n",
    "# normalizacia testovacich dat\n",
    "# normalization(test_data)"
   ]
  },
  {
   "cell_type": "code",
   "execution_count": 130,
   "metadata": {},
   "outputs": [
    {
     "data": {
      "image/png": "[encoded data removed]",
      "text/plain": [
       "<Figure size 640x480 with 1 Axes>"
      ]
     },
     "metadata": {},
     "output_type": "display_data"
    },
    {
     "data": {
      "text/plain": [
       "((3421, 13), (3421,), (3422, 13), (3422,), (4563, 13), (4563,))"
      ]
     },
     "execution_count": 130,
     "metadata": {},
     "output_type": "execute_result"
    }
   ],
   "source": [
    "X = df.drop(columns='Weather Type')\n",
    "Y = df['Weather Type']\n",
    "\n",
    "# Najprv rozdelíme dáta na trénovaciu a testovaciu množinu (60% tréning, 40% test)\n",
    "X_train, X_test, Y_train, Y_test = train_test_split(X, Y, test_size=0.4, random_state=42)\n",
    "\n",
    "# Potom rozdelíme trénovaciu množinu na tréningovú a validačnú množinu (50% tréning, 50% validačná)\n",
    "X_train, X_val, Y_train, Y_val = train_test_split(X_train, Y_train, test_size=0.50, random_state=42)\n",
    "\n",
    "# Výsledné množiny:\n",
    "# X_train, y_train - Trénovacie dáta\n",
    "# X_val, y_val - Validačné dáta\n",
    "# X_test, y_test - Testovacie dáta\n",
    "\n",
    "plt.hist(df['Weather Type'], bins=30, color='blue', edgecolor='black', alpha=0.5)  # Nahradiť target_column názvom stĺpca\n",
    "\n",
    "plt.title('Histogram of Weather Type')\n",
    "plt.xlabel('Values')\n",
    "plt.ylabel('Frequency')\n",
    "\n",
    "plt.show()\n",
    "\n",
    "X_train.shape, Y_train.shape, X_val.shape, Y_val.shape, X_test.shape, Y_test.shape"
   ]
  },
  {
   "cell_type": "code",
   "execution_count": 135,
   "metadata": {},
   "outputs": [
    {
     "ename": "ValueError",
     "evalue": "could not convert string to float: 'overcast'",
     "output_type": "error",
     "traceback": [
      "\u001b[1;31m---------------------------------------------------------------------------\u001b[0m",
      "\u001b[1;31mValueError\u001b[0m                                Traceback (most recent call last)",
      "Cell \u001b[1;32mIn [135], line 5\u001b[0m\n\u001b[0;32m      3\u001b[0m X_train\u001b[38;5;241m.\u001b[39mdescribe()\n\u001b[0;32m      4\u001b[0m \u001b[38;5;66;03m# Fit-transformácia len na tréningových dátach\u001b[39;00m\n\u001b[1;32m----> 5\u001b[0m X_train_scaled \u001b[38;5;241m=\u001b[39m scaler\u001b[38;5;241m.\u001b[39mfit_transform(X_train)\n\u001b[0;32m      7\u001b[0m \u001b[38;5;66;03m# Na validačnej a testovacej množine len transformácia\u001b[39;00m\n\u001b[0;32m      8\u001b[0m X_val_scaled \u001b[38;5;241m=\u001b[39m scaler\u001b[38;5;241m.\u001b[39mtransform(X_val)\n",
      "File \u001b[1;32mc:\\Users\\mraff\\AppData\\Local\\Programs\\Python\\Python310\\lib\\site-packages\\sklearn\\base.py:867\u001b[0m, in \u001b[0;36mTransformerMixin.fit_transform\u001b[1;34m(self, X, y, **fit_params)\u001b[0m\n\u001b[0;32m    863\u001b[0m \u001b[38;5;66;03m# non-optimized default implementation; override when a better\u001b[39;00m\n\u001b[0;32m    864\u001b[0m \u001b[38;5;66;03m# method is possible for a given clustering algorithm\u001b[39;00m\n\u001b[0;32m    865\u001b[0m \u001b[38;5;28;01mif\u001b[39;00m y \u001b[38;5;129;01mis\u001b[39;00m \u001b[38;5;28;01mNone\u001b[39;00m:\n\u001b[0;32m    866\u001b[0m     \u001b[38;5;66;03m# fit method of arity 1 (unsupervised transformation)\u001b[39;00m\n\u001b[1;32m--> 867\u001b[0m     \u001b[38;5;28;01mreturn\u001b[39;00m \u001b[38;5;28mself\u001b[39m\u001b[38;5;241m.\u001b[39mfit(X, \u001b[38;5;241m*\u001b[39m\u001b[38;5;241m*\u001b[39mfit_params)\u001b[38;5;241m.\u001b[39mtransform(X)\n\u001b[0;32m    868\u001b[0m \u001b[38;5;28;01melse\u001b[39;00m:\n\u001b[0;32m    869\u001b[0m     \u001b[38;5;66;03m# fit method of arity 2 (supervised transformation)\u001b[39;00m\n\u001b[0;32m    870\u001b[0m     \u001b[38;5;28;01mreturn\u001b[39;00m \u001b[38;5;28mself\u001b[39m\u001b[38;5;241m.\u001b[39mfit(X, y, \u001b[38;5;241m*\u001b[39m\u001b[38;5;241m*\u001b[39mfit_params)\u001b[38;5;241m.\u001b[39mtransform(X)\n",
      "File \u001b[1;32mc:\\Users\\mraff\\AppData\\Local\\Programs\\Python\\Python310\\lib\\site-packages\\sklearn\\preprocessing\\_data.py:809\u001b[0m, in \u001b[0;36mStandardScaler.fit\u001b[1;34m(self, X, y, sample_weight)\u001b[0m\n\u001b[0;32m    807\u001b[0m \u001b[38;5;66;03m# Reset internal state before fitting\u001b[39;00m\n\u001b[0;32m    808\u001b[0m \u001b[38;5;28mself\u001b[39m\u001b[38;5;241m.\u001b[39m_reset()\n\u001b[1;32m--> 809\u001b[0m \u001b[38;5;28;01mreturn\u001b[39;00m \u001b[38;5;28;43mself\u001b[39;49m\u001b[38;5;241;43m.\u001b[39;49m\u001b[43mpartial_fit\u001b[49m\u001b[43m(\u001b[49m\u001b[43mX\u001b[49m\u001b[43m,\u001b[49m\u001b[43m \u001b[49m\u001b[43my\u001b[49m\u001b[43m,\u001b[49m\u001b[43m \u001b[49m\u001b[43msample_weight\u001b[49m\u001b[43m)\u001b[49m\n",
      "File \u001b[1;32mc:\\Users\\mraff\\AppData\\Local\\Programs\\Python\\Python310\\lib\\site-packages\\sklearn\\preprocessing\\_data.py:844\u001b[0m, in \u001b[0;36mStandardScaler.partial_fit\u001b[1;34m(self, X, y, sample_weight)\u001b[0m\n\u001b[0;32m    812\u001b[0m \u001b[38;5;124;03m\"\"\"Online computation of mean and std on X for later scaling.\u001b[39;00m\n\u001b[0;32m    813\u001b[0m \n\u001b[0;32m    814\u001b[0m \u001b[38;5;124;03mAll of X is processed as a single batch. This is intended for cases\u001b[39;00m\n\u001b[1;32m   (...)\u001b[0m\n\u001b[0;32m    841\u001b[0m \u001b[38;5;124;03m    Fitted scaler.\u001b[39;00m\n\u001b[0;32m    842\u001b[0m \u001b[38;5;124;03m\"\"\"\u001b[39;00m\n\u001b[0;32m    843\u001b[0m first_call \u001b[38;5;241m=\u001b[39m \u001b[38;5;129;01mnot\u001b[39;00m \u001b[38;5;28mhasattr\u001b[39m(\u001b[38;5;28mself\u001b[39m, \u001b[38;5;124m\"\u001b[39m\u001b[38;5;124mn_samples_seen_\u001b[39m\u001b[38;5;124m\"\u001b[39m)\n\u001b[1;32m--> 844\u001b[0m X \u001b[38;5;241m=\u001b[39m \u001b[38;5;28;43mself\u001b[39;49m\u001b[38;5;241;43m.\u001b[39;49m\u001b[43m_validate_data\u001b[49m\u001b[43m(\u001b[49m\n\u001b[0;32m    845\u001b[0m \u001b[43m    \u001b[49m\u001b[43mX\u001b[49m\u001b[43m,\u001b[49m\n\u001b[0;32m    846\u001b[0m \u001b[43m    \u001b[49m\u001b[43maccept_sparse\u001b[49m\u001b[38;5;241;43m=\u001b[39;49m\u001b[43m(\u001b[49m\u001b[38;5;124;43m\"\u001b[39;49m\u001b[38;5;124;43mcsr\u001b[39;49m\u001b[38;5;124;43m\"\u001b[39;49m\u001b[43m,\u001b[49m\u001b[43m \u001b[49m\u001b[38;5;124;43m\"\u001b[39;49m\u001b[38;5;124;43mcsc\u001b[39;49m\u001b[38;5;124;43m\"\u001b[39;49m\u001b[43m)\u001b[49m\u001b[43m,\u001b[49m\n\u001b[0;32m    847\u001b[0m \u001b[43m    \u001b[49m\u001b[43mdtype\u001b[49m\u001b[38;5;241;43m=\u001b[39;49m\u001b[43mFLOAT_DTYPES\u001b[49m\u001b[43m,\u001b[49m\n\u001b[0;32m    848\u001b[0m \u001b[43m    \u001b[49m\u001b[43mforce_all_finite\u001b[49m\u001b[38;5;241;43m=\u001b[39;49m\u001b[38;5;124;43m\"\u001b[39;49m\u001b[38;5;124;43mallow-nan\u001b[39;49m\u001b[38;5;124;43m\"\u001b[39;49m\u001b[43m,\u001b[49m\n\u001b[0;32m    849\u001b[0m \u001b[43m    \u001b[49m\u001b[43mreset\u001b[49m\u001b[38;5;241;43m=\u001b[39;49m\u001b[43mfirst_call\u001b[49m\u001b[43m,\u001b[49m\n\u001b[0;32m    850\u001b[0m \u001b[43m\u001b[49m\u001b[43m)\u001b[49m\n\u001b[0;32m    851\u001b[0m n_features \u001b[38;5;241m=\u001b[39m X\u001b[38;5;241m.\u001b[39mshape[\u001b[38;5;241m1\u001b[39m]\n\u001b[0;32m    853\u001b[0m \u001b[38;5;28;01mif\u001b[39;00m sample_weight \u001b[38;5;129;01mis\u001b[39;00m \u001b[38;5;129;01mnot\u001b[39;00m \u001b[38;5;28;01mNone\u001b[39;00m:\n",
      "File \u001b[1;32mc:\\Users\\mraff\\AppData\\Local\\Programs\\Python\\Python310\\lib\\site-packages\\sklearn\\base.py:577\u001b[0m, in \u001b[0;36mBaseEstimator._validate_data\u001b[1;34m(self, X, y, reset, validate_separately, **check_params)\u001b[0m\n\u001b[0;32m    575\u001b[0m     \u001b[38;5;28;01mraise\u001b[39;00m \u001b[38;5;167;01mValueError\u001b[39;00m(\u001b[38;5;124m\"\u001b[39m\u001b[38;5;124mValidation should be done on X, y or both.\u001b[39m\u001b[38;5;124m\"\u001b[39m)\n\u001b[0;32m    576\u001b[0m \u001b[38;5;28;01melif\u001b[39;00m \u001b[38;5;129;01mnot\u001b[39;00m no_val_X \u001b[38;5;129;01mand\u001b[39;00m no_val_y:\n\u001b[1;32m--> 577\u001b[0m     X \u001b[38;5;241m=\u001b[39m check_array(X, input_name\u001b[38;5;241m=\u001b[39m\u001b[38;5;124m\"\u001b[39m\u001b[38;5;124mX\u001b[39m\u001b[38;5;124m\"\u001b[39m, \u001b[38;5;241m*\u001b[39m\u001b[38;5;241m*\u001b[39mcheck_params)\n\u001b[0;32m    578\u001b[0m     out \u001b[38;5;241m=\u001b[39m X\n\u001b[0;32m    579\u001b[0m \u001b[38;5;28;01melif\u001b[39;00m no_val_X \u001b[38;5;129;01mand\u001b[39;00m \u001b[38;5;129;01mnot\u001b[39;00m no_val_y:\n",
      "File \u001b[1;32mc:\\Users\\mraff\\AppData\\Local\\Programs\\Python\\Python310\\lib\\site-packages\\sklearn\\utils\\validation.py:856\u001b[0m, in \u001b[0;36mcheck_array\u001b[1;34m(array, accept_sparse, accept_large_sparse, dtype, order, copy, force_all_finite, ensure_2d, allow_nd, ensure_min_samples, ensure_min_features, estimator, input_name)\u001b[0m\n\u001b[0;32m    854\u001b[0m         array \u001b[38;5;241m=\u001b[39m array\u001b[38;5;241m.\u001b[39mastype(dtype, casting\u001b[38;5;241m=\u001b[39m\u001b[38;5;124m\"\u001b[39m\u001b[38;5;124munsafe\u001b[39m\u001b[38;5;124m\"\u001b[39m, copy\u001b[38;5;241m=\u001b[39m\u001b[38;5;28;01mFalse\u001b[39;00m)\n\u001b[0;32m    855\u001b[0m     \u001b[38;5;28;01melse\u001b[39;00m:\n\u001b[1;32m--> 856\u001b[0m         array \u001b[38;5;241m=\u001b[39m \u001b[43mnp\u001b[49m\u001b[38;5;241;43m.\u001b[39;49m\u001b[43masarray\u001b[49m\u001b[43m(\u001b[49m\u001b[43marray\u001b[49m\u001b[43m,\u001b[49m\u001b[43m \u001b[49m\u001b[43morder\u001b[49m\u001b[38;5;241;43m=\u001b[39;49m\u001b[43morder\u001b[49m\u001b[43m,\u001b[49m\u001b[43m \u001b[49m\u001b[43mdtype\u001b[49m\u001b[38;5;241;43m=\u001b[39;49m\u001b[43mdtype\u001b[49m\u001b[43m)\u001b[49m\n\u001b[0;32m    857\u001b[0m \u001b[38;5;28;01mexcept\u001b[39;00m ComplexWarning \u001b[38;5;28;01mas\u001b[39;00m complex_warning:\n\u001b[0;32m    858\u001b[0m     \u001b[38;5;28;01mraise\u001b[39;00m \u001b[38;5;167;01mValueError\u001b[39;00m(\n\u001b[0;32m    859\u001b[0m         \u001b[38;5;124m\"\u001b[39m\u001b[38;5;124mComplex data not supported\u001b[39m\u001b[38;5;130;01m\\n\u001b[39;00m\u001b[38;5;132;01m{}\u001b[39;00m\u001b[38;5;130;01m\\n\u001b[39;00m\u001b[38;5;124m\"\u001b[39m\u001b[38;5;241m.\u001b[39mformat(array)\n\u001b[0;32m    860\u001b[0m     ) \u001b[38;5;28;01mfrom\u001b[39;00m \u001b[38;5;21;01mcomplex_warning\u001b[39;00m\n",
      "File \u001b[1;32mc:\\Users\\mraff\\AppData\\Local\\Programs\\Python\\Python310\\lib\\site-packages\\pandas\\core\\generic.py:2069\u001b[0m, in \u001b[0;36mNDFrame.__array__\u001b[1;34m(self, dtype)\u001b[0m\n\u001b[0;32m   2068\u001b[0m \u001b[38;5;28;01mdef\u001b[39;00m \u001b[38;5;21m__array__\u001b[39m(\u001b[38;5;28mself\u001b[39m, dtype: npt\u001b[38;5;241m.\u001b[39mDTypeLike \u001b[38;5;241m|\u001b[39m \u001b[38;5;28;01mNone\u001b[39;00m \u001b[38;5;241m=\u001b[39m \u001b[38;5;28;01mNone\u001b[39;00m) \u001b[38;5;241m-\u001b[39m\u001b[38;5;241m>\u001b[39m np\u001b[38;5;241m.\u001b[39mndarray:\n\u001b[1;32m-> 2069\u001b[0m     \u001b[38;5;28;01mreturn\u001b[39;00m \u001b[43mnp\u001b[49m\u001b[38;5;241;43m.\u001b[39;49m\u001b[43masarray\u001b[49m\u001b[43m(\u001b[49m\u001b[38;5;28;43mself\u001b[39;49m\u001b[38;5;241;43m.\u001b[39;49m\u001b[43m_values\u001b[49m\u001b[43m,\u001b[49m\u001b[43m \u001b[49m\u001b[43mdtype\u001b[49m\u001b[38;5;241;43m=\u001b[39;49m\u001b[43mdtype\u001b[49m\u001b[43m)\u001b[49m\n",
      "\u001b[1;31mValueError\u001b[0m: could not convert string to float: 'overcast'"
     ]
    }
   ],
   "source": [
    "# Inicializujeme scaler\n",
    "scaler = StandardScaler()\n",
    "\n",
    "# Fit-transformácia len na tréningových dátach\n",
    "X_train_scaled = scaler.fit_transform(X_train)\n",
    "\n",
    "# Na validačnej a testovacej množine len transformácia\n",
    "X_val_scaled = scaler.transform(X_val)\n",
    "X_test_scaled = scaler.transform(X_test)\n",
    "\n",
    "# Kontrola tvarov množín po škálovaní\n",
    "print(\"X_train_scaled shape:\", X_train_scaled.shape)\n",
    "print(\"X_val_scaled shape:\", X_val_scaled.shape)\n",
    "print(\"X_test_scaled shape:\", X_test_scaled.shape)\n",
    "\n",
    "# Vykreslenie histogramu pre škálované dáta\n",
    "plt.hist(X_train_scaled.flatten(), bins=30, color='blue', edgecolor='black', alpha=0.5)\n",
    "plt.title('Histogram of Scaled Features (X_train)')\n",
    "plt.xlabel('Scaled Values')\n",
    "plt.ylabel('Frequency')\n",
    "plt.show()"
   ]
  },
  {
   "cell_type": "code",
   "execution_count": 125,
   "metadata": {},
   "outputs": [
    {
     "name": "stderr",
     "output_type": "stream",
     "text": [
      "C:\\Users\\mraff\\AppData\\Local\\Temp\\ipykernel_39980\\2365527316.py:2: FutureWarning:\n",
      "\n",
      "The default value of numeric_only in DataFrame.corr is deprecated. In a future version, it will default to False. Select only valid columns or specify the value of numeric_only to silence this warning.\n",
      "\n"
     ]
    },
    {
     "data": {
      "application/vnd.plotly.v1+json": {
       "config": {
        "plotlyServerURL": "https://plot.ly"
       },
       "data": [
        {
         "coloraxis": "coloraxis",
         "hovertemplate": "x: %{x}<br>y: %{y}<br>color: %{z}<extra></extra>",
         "name": "0",
         "type": "heatmap",
         "x": [
          "Temperature",
          "Humidity",
          "Wind Speed",
          "Precipitation (%)",
          "Atmospheric Pressure",
          "Visibility (km)",
          "Cloud Cover Encoded",
          "Season_Autumn",
          "Season_Spring",
          "Season_Summer",
          "Season_Winter"
         ],
         "xaxis": "x",
         "y": [
          "Temperature",
          "Humidity",
          "Wind Speed",
          "Precipitation (%)",
          "Atmospheric Pressure",
          "Visibility (km)",
          "Cloud Cover Encoded",
          "Season_Autumn",
          "Season_Spring",
          "Season_Summer",
          "Season_Winter"
         ],
         "yaxis": "y",
         "z": [
          [
           1,
           -0.32969816625930665,
           -0.13181911227362028,
           -0.3982890121137334,
           0.6789463408165639,
           0.4598732056698138,
           -0.28952910639130053,
           0.2182878322931376,
           0.22544578838800944,
           0.21776500689261213,
           -0.5198518607194049
          ],
          [
           -0.32969816625930665,
           1,
           0.3992244091391807,
           0.7082417402867447,
           -0.4613571174964289,
           -0.5236095503304202,
           0.2316517255490295,
           -0.09447248342502496,
           -0.09592936991893923,
           -0.09282988400384883,
           0.22257432619287745
          ],
          [
           -0.13181911227362028,
           0.3992244091391807,
           1,
           0.4509237148795209,
           -0.25336106720622675,
           -0.3532034761663201,
           0.14255649550654254,
           -0.01741194436249422,
           -0.041097354925350174,
           -0.025248996427617184,
           0.065975083216279
          ],
          [
           -0.3982890121137334,
           0.7082417402867447,
           0.4509237148795209,
           1,
           -0.5461063376256468,
           -0.6483401469091739,
           0.29954511075478346,
           -0.11573838242044429,
           -0.12372368781470967,
           -0.11623422053629547,
           0.2795599445493971
          ],
          [
           0.6789463408165639,
           -0.4613571174964289,
           -0.25336106720622675,
           -0.5461063376256468,
           1,
           0.5564019906065414,
           -0.31961181880866113,
           0.20252615218898504,
           0.19945413741480905,
           0.198307854424419,
           -0.471685423524703
          ],
          [
           0.4598732056698138,
           -0.5236095503304202,
           -0.3532034761663201,
           -0.6483401469091739,
           0.5564019906065414,
           1,
           -0.3119963188737736,
           0.13181415049992468,
           0.13493566068489082,
           0.1290126181449101,
           -0.3110142894345159
          ],
          [
           -0.28952910639130053,
           0.2316517255490295,
           0.14255649550654254,
           0.29954511075478346,
           -0.31961181880866113,
           -0.3119963188737736,
           1,
           -0.08336646357353893,
           -0.07676971915827727,
           -0.08275857592463964,
           0.19081646115741444
          ],
          [
           0.2182878322931376,
           -0.09447248342502496,
           -0.01741194436249422,
           -0.11573838242044429,
           0.20252615218898504,
           0.13181415049992468,
           -0.08336646357353893,
           1,
           -0.23103640434217987,
           -0.2266462585893101,
           -0.41956468473967845
          ],
          [
           0.22544578838800944,
           -0.09592936991893923,
           -0.041097354925350174,
           -0.12372368781470967,
           0.19945413741480905,
           0.13493566068489082,
           -0.07676971915827727,
           -0.23103640434217987,
           1,
           -0.2325880372794764,
           -0.4305640302327372
          ],
          [
           0.21776500689261213,
           -0.09282988400384883,
           -0.025248996427617184,
           -0.11623422053629547,
           0.198307854424419,
           0.1290126181449101,
           -0.08275857592463964,
           -0.2266462585893101,
           -0.2325880372794764,
           1,
           -0.42238246744376046
          ],
          [
           -0.5198518607194049,
           0.22257432619287745,
           0.065975083216279,
           0.2795599445493971,
           -0.471685423524703,
           -0.3110142894345159,
           0.19081646115741444,
           -0.41956468473967845,
           -0.4305640302327372,
           -0.42238246744376046,
           1
          ]
         ]
        }
       ],
       "layout": {
        "coloraxis": {
         "colorscale": [
          [
           0,
           "#0d0887"
          ],
          [
           0.1111111111111111,
           "#46039f"
          ],
          [
           0.2222222222222222,
           "#7201a8"
          ],
          [
           0.3333333333333333,
           "#9c179e"
          ],
          [
           0.4444444444444444,
           "#bd3786"
          ],
          [
           0.5555555555555556,
           "#d8576b"
          ],
          [
           0.6666666666666666,
           "#ed7953"
          ],
          [
           0.7777777777777778,
           "#fb9f3a"
          ],
          [
           0.8888888888888888,
           "#fdca26"
          ],
          [
           1,
           "#f0f921"
          ]
         ]
        },
        "margin": {
         "t": 60
        },
        "template": {
         "data": {
          "bar": [
           {
            "error_x": {
             "color": "#2a3f5f"
            },
            "error_y": {
             "color": "#2a3f5f"
            },
            "marker": {
             "line": {
              "color": "#E5ECF6",
              "width": 0.5
             },
             "pattern": {
              "fillmode": "overlay",
              "size": 10,
              "solidity": 0.2
             }
            },
            "type": "bar"
           }
          ],
          "barpolar": [
           {
            "marker": {
             "line": {
              "color": "#E5ECF6",
              "width": 0.5
             },
             "pattern": {
              "fillmode": "overlay",
              "size": 10,
              "solidity": 0.2
             }
            },
            "type": "barpolar"
           }
          ],
          "carpet": [
           {
            "aaxis": {
             "endlinecolor": "#2a3f5f",
             "gridcolor": "white",
             "linecolor": "white",
             "minorgridcolor": "white",
             "startlinecolor": "#2a3f5f"
            },
            "baxis": {
             "endlinecolor": "#2a3f5f",
             "gridcolor": "white",
             "linecolor": "white",
             "minorgridcolor": "white",
             "startlinecolor": "#2a3f5f"
            },
            "type": "carpet"
           }
          ],
          "choropleth": [
           {
            "colorbar": {
             "outlinewidth": 0,
             "ticks": ""
            },
            "type": "choropleth"
           }
          ],
          "contour": [
           {
            "colorbar": {
             "outlinewidth": 0,
             "ticks": ""
            },
            "colorscale": [
             [
              0,
              "#0d0887"
             ],
             [
              0.1111111111111111,
              "#46039f"
             ],
             [
              0.2222222222222222,
              "#7201a8"
             ],
             [
              0.3333333333333333,
              "#9c179e"
             ],
             [
              0.4444444444444444,
              "#bd3786"
             ],
             [
              0.5555555555555556,
              "#d8576b"
             ],
             [
              0.6666666666666666,
              "#ed7953"
             ],
             [
              0.7777777777777778,
              "#fb9f3a"
             ],
             [
              0.8888888888888888,
              "#fdca26"
             ],
             [
              1,
              "#f0f921"
             ]
            ],
            "type": "contour"
           }
          ],
          "contourcarpet": [
           {
            "colorbar": {
             "outlinewidth": 0,
             "ticks": ""
            },
            "type": "contourcarpet"
           }
          ],
          "heatmap": [
           {
            "colorbar": {
             "outlinewidth": 0,
             "ticks": ""
            },
            "colorscale": [
             [
              0,
              "#0d0887"
             ],
             [
              0.1111111111111111,
              "#46039f"
             ],
             [
              0.2222222222222222,
              "#7201a8"
             ],
             [
              0.3333333333333333,
              "#9c179e"
             ],
             [
              0.4444444444444444,
              "#bd3786"
             ],
             [
              0.5555555555555556,
              "#d8576b"
             ],
             [
              0.6666666666666666,
              "#ed7953"
             ],
             [
              0.7777777777777778,
              "#fb9f3a"
             ],
             [
              0.8888888888888888,
              "#fdca26"
             ],
             [
              1,
              "#f0f921"
             ]
            ],
            "type": "heatmap"
           }
          ],
          "heatmapgl": [
           {
            "colorbar": {
             "outlinewidth": 0,
             "ticks": ""
            },
            "colorscale": [
             [
              0,
              "#0d0887"
             ],
             [
              0.1111111111111111,
              "#46039f"
             ],
             [
              0.2222222222222222,
              "#7201a8"
             ],
             [
              0.3333333333333333,
              "#9c179e"
             ],
             [
              0.4444444444444444,
              "#bd3786"
             ],
             [
              0.5555555555555556,
              "#d8576b"
             ],
             [
              0.6666666666666666,
              "#ed7953"
             ],
             [
              0.7777777777777778,
              "#fb9f3a"
             ],
             [
              0.8888888888888888,
              "#fdca26"
             ],
             [
              1,
              "#f0f921"
             ]
            ],
            "type": "heatmapgl"
           }
          ],
          "histogram": [
           {
            "marker": {
             "pattern": {
              "fillmode": "overlay",
              "size": 10,
              "solidity": 0.2
             }
            },
            "type": "histogram"
           }
          ],
          "histogram2d": [
           {
            "colorbar": {
             "outlinewidth": 0,
             "ticks": ""
            },
            "colorscale": [
             [
              0,
              "#0d0887"
             ],
             [
              0.1111111111111111,
              "#46039f"
             ],
             [
              0.2222222222222222,
              "#7201a8"
             ],
             [
              0.3333333333333333,
              "#9c179e"
             ],
             [
              0.4444444444444444,
              "#bd3786"
             ],
             [
              0.5555555555555556,
              "#d8576b"
             ],
             [
              0.6666666666666666,
              "#ed7953"
             ],
             [
              0.7777777777777778,
              "#fb9f3a"
             ],
             [
              0.8888888888888888,
              "#fdca26"
             ],
             [
              1,
              "#f0f921"
             ]
            ],
            "type": "histogram2d"
           }
          ],
          "histogram2dcontour": [
           {
            "colorbar": {
             "outlinewidth": 0,
             "ticks": ""
            },
            "colorscale": [
             [
              0,
              "#0d0887"
             ],
             [
              0.1111111111111111,
              "#46039f"
             ],
             [
              0.2222222222222222,
              "#7201a8"
             ],
             [
              0.3333333333333333,
              "#9c179e"
             ],
             [
              0.4444444444444444,
              "#bd3786"
             ],
             [
              0.5555555555555556,
              "#d8576b"
             ],
             [
              0.6666666666666666,
              "#ed7953"
             ],
             [
              0.7777777777777778,
              "#fb9f3a"
             ],
             [
              0.8888888888888888,
              "#fdca26"
             ],
             [
              1,
              "#f0f921"
             ]
            ],
            "type": "histogram2dcontour"
           }
          ],
          "mesh3d": [
           {
            "colorbar": {
             "outlinewidth": 0,
             "ticks": ""
            },
            "type": "mesh3d"
           }
          ],
          "parcoords": [
           {
            "line": {
             "colorbar": {
              "outlinewidth": 0,
              "ticks": ""
             }
            },
            "type": "parcoords"
           }
          ],
          "pie": [
           {
            "automargin": true,
            "type": "pie"
           }
          ],
          "scatter": [
           {
            "fillpattern": {
             "fillmode": "overlay",
             "size": 10,
             "solidity": 0.2
            },
            "type": "scatter"
           }
          ],
          "scatter3d": [
           {
            "line": {
             "colorbar": {
              "outlinewidth": 0,
              "ticks": ""
             }
            },
            "marker": {
             "colorbar": {
              "outlinewidth": 0,
              "ticks": ""
             }
            },
            "type": "scatter3d"
           }
          ],
          "scattercarpet": [
           {
            "marker": {
             "colorbar": {
              "outlinewidth": 0,
              "ticks": ""
             }
            },
            "type": "scattercarpet"
           }
          ],
          "scattergeo": [
           {
            "marker": {
             "colorbar": {
              "outlinewidth": 0,
              "ticks": ""
             }
            },
            "type": "scattergeo"
           }
          ],
          "scattergl": [
           {
            "marker": {
             "colorbar": {
              "outlinewidth": 0,
              "ticks": ""
             }
            },
            "type": "scattergl"
           }
          ],
          "scattermapbox": [
           {
            "marker": {
             "colorbar": {
              "outlinewidth": 0,
              "ticks": ""
             }
            },
            "type": "scattermapbox"
           }
          ],
          "scatterpolar": [
           {
            "marker": {
             "colorbar": {
              "outlinewidth": 0,
              "ticks": ""
             }
            },
            "type": "scatterpolar"
           }
          ],
          "scatterpolargl": [
           {
            "marker": {
             "colorbar": {
              "outlinewidth": 0,
              "ticks": ""
             }
            },
            "type": "scatterpolargl"
           }
          ],
          "scatterternary": [
           {
            "marker": {
             "colorbar": {
              "outlinewidth": 0,
              "ticks": ""
             }
            },
            "type": "scatterternary"
           }
          ],
          "surface": [
           {
            "colorbar": {
             "outlinewidth": 0,
             "ticks": ""
            },
            "colorscale": [
             [
              0,
              "#0d0887"
             ],
             [
              0.1111111111111111,
              "#46039f"
             ],
             [
              0.2222222222222222,
              "#7201a8"
             ],
             [
              0.3333333333333333,
              "#9c179e"
             ],
             [
              0.4444444444444444,
              "#bd3786"
             ],
             [
              0.5555555555555556,
              "#d8576b"
             ],
             [
              0.6666666666666666,
              "#ed7953"
             ],
             [
              0.7777777777777778,
              "#fb9f3a"
             ],
             [
              0.8888888888888888,
              "#fdca26"
             ],
             [
              1,
              "#f0f921"
             ]
            ],
            "type": "surface"
           }
          ],
          "table": [
           {
            "cells": {
             "fill": {
              "color": "#EBF0F8"
             },
             "line": {
              "color": "white"
             }
            },
            "header": {
             "fill": {
              "color": "#C8D4E3"
             },
             "line": {
              "color": "white"
             }
            },
            "type": "table"
           }
          ]
         },
         "layout": {
          "annotationdefaults": {
           "arrowcolor": "#2a3f5f",
           "arrowhead": 0,
           "arrowwidth": 1
          },
          "autotypenumbers": "strict",
          "coloraxis": {
           "colorbar": {
            "outlinewidth": 0,
            "ticks": ""
           }
          },
          "colorscale": {
           "diverging": [
            [
             0,
             "#8e0152"
            ],
            [
             0.1,
             "#c51b7d"
            ],
            [
             0.2,
             "#de77ae"
            ],
            [
             0.3,
             "#f1b6da"
            ],
            [
             0.4,
             "#fde0ef"
            ],
            [
             0.5,
             "#f7f7f7"
            ],
            [
             0.6,
             "#e6f5d0"
            ],
            [
             0.7,
             "#b8e186"
            ],
            [
             0.8,
             "#7fbc41"
            ],
            [
             0.9,
             "#4d9221"
            ],
            [
             1,
             "#276419"
            ]
           ],
           "sequential": [
            [
             0,
             "#0d0887"
            ],
            [
             0.1111111111111111,
             "#46039f"
            ],
            [
             0.2222222222222222,
             "#7201a8"
            ],
            [
             0.3333333333333333,
             "#9c179e"
            ],
            [
             0.4444444444444444,
             "#bd3786"
            ],
            [
             0.5555555555555556,
             "#d8576b"
            ],
            [
             0.6666666666666666,
             "#ed7953"
            ],
            [
             0.7777777777777778,
             "#fb9f3a"
            ],
            [
             0.8888888888888888,
             "#fdca26"
            ],
            [
             1,
             "#f0f921"
            ]
           ],
           "sequentialminus": [
            [
             0,
             "#0d0887"
            ],
            [
             0.1111111111111111,
             "#46039f"
            ],
            [
             0.2222222222222222,
             "#7201a8"
            ],
            [
             0.3333333333333333,
             "#9c179e"
            ],
            [
             0.4444444444444444,
             "#bd3786"
            ],
            [
             0.5555555555555556,
             "#d8576b"
            ],
            [
             0.6666666666666666,
             "#ed7953"
            ],
            [
             0.7777777777777778,
             "#fb9f3a"
            ],
            [
             0.8888888888888888,
             "#fdca26"
            ],
            [
             1,
             "#f0f921"
            ]
           ]
          },
          "colorway": [
           "#636efa",
           "#EF553B",
           "#00cc96",
           "#ab63fa",
           "#FFA15A",
           "#19d3f3",
           "#FF6692",
           "#B6E880",
           "#FF97FF",
           "#FECB52"
          ],
          "font": {
           "color": "#2a3f5f"
          },
          "geo": {
           "bgcolor": "white",
           "lakecolor": "white",
           "landcolor": "#E5ECF6",
           "showlakes": true,
           "showland": true,
           "subunitcolor": "white"
          },
          "hoverlabel": {
           "align": "left"
          },
          "hovermode": "closest",
          "mapbox": {
           "style": "light"
          },
          "paper_bgcolor": "white",
          "plot_bgcolor": "#E5ECF6",
          "polar": {
           "angularaxis": {
            "gridcolor": "white",
            "linecolor": "white",
            "ticks": ""
           },
           "bgcolor": "#E5ECF6",
           "radialaxis": {
            "gridcolor": "white",
            "linecolor": "white",
            "ticks": ""
           }
          },
          "scene": {
           "xaxis": {
            "backgroundcolor": "#E5ECF6",
            "gridcolor": "white",
            "gridwidth": 2,
            "linecolor": "white",
            "showbackground": true,
            "ticks": "",
            "zerolinecolor": "white"
           },
           "yaxis": {
            "backgroundcolor": "#E5ECF6",
            "gridcolor": "white",
            "gridwidth": 2,
            "linecolor": "white",
            "showbackground": true,
            "ticks": "",
            "zerolinecolor": "white"
           },
           "zaxis": {
            "backgroundcolor": "#E5ECF6",
            "gridcolor": "white",
            "gridwidth": 2,
            "linecolor": "white",
            "showbackground": true,
            "ticks": "",
            "zerolinecolor": "white"
           }
          },
          "shapedefaults": {
           "line": {
            "color": "#2a3f5f"
           }
          },
          "ternary": {
           "aaxis": {
            "gridcolor": "white",
            "linecolor": "white",
            "ticks": ""
           },
           "baxis": {
            "gridcolor": "white",
            "linecolor": "white",
            "ticks": ""
           },
           "bgcolor": "#E5ECF6",
           "caxis": {
            "gridcolor": "white",
            "linecolor": "white",
            "ticks": ""
           }
          },
          "title": {
           "x": 0.05
          },
          "xaxis": {
           "automargin": true,
           "gridcolor": "white",
           "linecolor": "white",
           "ticks": "",
           "title": {
            "standoff": 15
           },
           "zerolinecolor": "white",
           "zerolinewidth": 2
          },
          "yaxis": {
           "automargin": true,
           "gridcolor": "white",
           "linecolor": "white",
           "ticks": "",
           "title": {
            "standoff": 15
           },
           "zerolinecolor": "white",
           "zerolinewidth": 2
          }
         }
        },
        "xaxis": {
         "anchor": "y",
         "constrain": "domain",
         "domain": [
          0,
          1
         ],
         "scaleanchor": "y"
        },
        "yaxis": {
         "anchor": "x",
         "autorange": "reversed",
         "constrain": "domain",
         "domain": [
          0,
          1
         ]
        }
       }
      }
     },
     "metadata": {},
     "output_type": "display_data"
    }
   ],
   "source": [
    "# korelacna matica\n",
    "corr_matrix = px.imshow(df.corr())\n",
    "corr_matrix.show()"
   ]
  }
 ],
 "metadata": {
  "kernelspec": {
   "display_name": "Python 3",
   "language": "python",
   "name": "python3"
  },
  "language_info": {
   "codemirror_mode": {
    "name": "ipython",
    "version": 3
   },
   "file_extension": ".py",
   "mimetype": "text/x-python",
   "name": "python",
   "nbconvert_exporter": "python",
   "pygments_lexer": "ipython3",
   "version": "3.10.0"
  }
 },
 "nbformat": 4,
 "nbformat_minor": 2
}
