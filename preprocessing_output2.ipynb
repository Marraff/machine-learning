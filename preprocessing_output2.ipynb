Training Accuracy: 0.9699211716651917, Validation Accuracy: 0.9704180359840393
Fold 2/5
Training Accuracy: 0.9543188214302063, Validation Accuracy: 0.9575562477111816
Fold 3/5
Training Accuracy: 0.9572209715843201, Validation Accuracy: 0.945302426815033
Fold 4/5
Training Accuracy: 0.9612415432929993, Validation Accuracy: 0.9607464671134949
Fold 5/5
Training Accuracy: 0.9591508507728577, Validation Accuracy: 0.953667938709259
Avg Training Accuracy for current params: 0.960370671749115
Avg Validation Accuracy for current params: 0.9575382232666015, Avg Validation Loss: 0.141208653151989

Testing combination: Epochs=50, Learning Rate=0.01, Neurons1=64, Neurons2=16
Fold 1/5
Training Accuracy: 0.9630046486854553, Validation Accuracy: 0.9633440375328064
Fold 2/5
Training Accuracy: 0.9601093530654907, Validation Accuracy: 0.9665594696998596
Fold 3/5
Training Accuracy: 0.9605982899665833, Validation Accuracy: 0.9504504799842834
Fold 4/5
Training Accuracy: 0.9642971754074097, Validation Accuracy: 0.9601029753684998
Fold 5/5
Training Accuracy: 0.9638147354125977, Validation Accuracy: 0.9562419652938843
Avg Training Accuracy for current params: 0.9623648405075074
Avg Validation Accuracy for current params: 0.9593397855758667, Avg Validation Loss: 0.14292927831411362

Testing combination: Epochs=50, Learning Rate=0.01, Neurons1=32, Neurons2=32
Fold 1/5
Training Accuracy: 0.953514575958252, Validation Accuracy: 0.9575562477111816
Fold 2/5
Training Accuracy: 0.9533537030220032, Validation Accuracy: 0.9549839496612549
Fold 3/5
Training Accuracy: 0.9729816913604736, Validation Accuracy: 0.9646074771881104
Fold 4/5
Training Accuracy: 0.9554519057273865, Validation Accuracy: 0.9594594836235046
Fold 5/5
Training Accuracy: 0.9572209715843201, Validation Accuracy: 0.953667938709259
Avg Training Accuracy for current params: 0.958504569530487
Avg Validation Accuracy for current params: 0.9580550193786621, Avg Validation Loss: 0.14556756913661956

Testing combination: Epochs=50, Learning Rate=0.01, Neurons1=32, Neurons2=16
Fold 1/5
Training Accuracy: 0.9552838802337646, Validation Accuracy: 0.9614148139953613
Fold 2/5
Training Accuracy: 0.9591442942619324, Validation Accuracy: 0.9614148139953613
Fold 3/5
Training Accuracy: 0.9541653394699097, Validation Accuracy: 0.9459459185600281
Fold 4/5
Training Accuracy: 0.9554519057273865, Validation Accuracy: 0.9575289487838745
Fold 5/5
Training Accuracy: 0.9583467245101929, Validation Accuracy: 0.9517374634742737
Avg Training Accuracy for current params: 0.9564784288406372
Avg Validation Accuracy for current params: 0.9556083917617798, Avg Validation Loss: 0.15914718955755233

Testing combination: Epochs=50, Learning Rate=0.001, Neurons1=64, Neurons2=32
Fold 1/5
Training Accuracy: 0.9737815856933594, Validation Accuracy: 0.9723472595214844
Fold 2/5
Training Accuracy: 0.973138153553009, Validation Accuracy: 0.971061110496521
Fold 3/5
Training Accuracy: 0.9670311808586121, Validation Accuracy: 0.9568854570388794
Fold 4/5
Training Accuracy: 0.9707301259040833, Validation Accuracy: 0.9665379524230957
Fold 5/5
Training Accuracy: 0.9745898842811584, Validation Accuracy: 0.9684684872627258
Avg Training Accuracy for current params: 0.9718541860580444
Avg Validation Accuracy for current params: 0.9670600533485413, Avg Validation Loss: 0.12237195372581482

Testing combination: Epochs=50, Learning Rate=0.001, Neurons1=64, Neurons2=16
Fold 1/5
Training Accuracy: 0.9716905355453491, Validation Accuracy: 0.971061110496521
Fold 2/5
Training Accuracy: 0.9647740125656128, Validation Accuracy: 0.9659163951873779
Fold 3/5
Training Accuracy: 0.9729816913604736, Validation Accuracy: 0.96138995885849
Fold 4/5
Training Accuracy: 0.9704084992408752, Validation Accuracy: 0.9697554707527161
Fold 5/5
Training Accuracy: 0.9630106091499329, Validation Accuracy: 0.9620334506034851
Avg Training Accuracy for current params: 0.9685730695724487
Avg Validation Accuracy for current params: 0.966031277179718, Avg Validation Loss: 0.13008937388658523

Testing combination: Epochs=50, Learning Rate=0.001, Neurons1=32, Neurons2=32
Fold 1/5
Training Accuracy: 0.966865062713623, Validation Accuracy: 0.9672025442123413
Fold 2/5
Training Accuracy: 0.9564098715782166, Validation Accuracy: 0.9562700986862183
Fold 3/5
Training Accuracy: 0.9702476859092712, Validation Accuracy: 0.9555984735488892
Fold 4/5
Training Accuracy: 0.9607591032981873, Validation Accuracy: 0.9639639854431152
Fold 5/5
Training Accuracy: 0.9596333503723145, Validation Accuracy: 0.9485199451446533
Avg Training Accuracy for current params: 0.9627830147743225
Avg Validation Accuracy for current params: 0.9583110094070435, Avg Validation Loss: 0.14311519414186477

Testing combination: Epochs=50, Learning Rate=0.001, Neurons1=32, Neurons2=16
Fold 1/5
Training Accuracy: 0.962200403213501, Validation Accuracy: 0.9607716798782349
Fold 2/5
Training Accuracy: 0.9623612761497498, Validation Accuracy: 0.9627009630203247
Fold 3/5
Training Accuracy: 0.9567384719848633, Validation Accuracy: 0.9478764533996582
Fold 4/5
Training Accuracy: 0.9605982899665833, Validation Accuracy: 0.9588159322738647
Fold 5/5
Training Accuracy: 0.9626889824867249, Validation Accuracy: 0.9530244469642639
Avg Training Accuracy for current params: 0.9609174847602844
Avg Validation Accuracy for current params: 0.9566378951072693, Avg Validation Loss: 0.15364843904972075

Testing combination: Epochs=70, Learning Rate=0.01, Neurons1=64, Neurons2=32
Fold 1/5
Training Accuracy: 0.966865062713623, Validation Accuracy: 0.9691318273544312
Fold 2/5
Training Accuracy: 0.9697603583335876, Validation Accuracy: 0.9723472595214844
Fold 3/5
Training Accuracy: 0.9675136804580688, Validation Accuracy: 0.9543114304542542
Fold 4/5
Training Accuracy: 0.9644580483436584, Validation Accuracy: 0.96138995885849
Fold 5/5
Training Accuracy: 0.9673528671264648, Validation Accuracy: 0.9588159322738647
Avg Training Accuracy for current params: 0.9671900033950805
Avg Validation Accuracy for current params: 0.9631992816925049, Avg Validation Loss: 0.1286484569311142

Testing combination: Epochs=70, Learning Rate=0.01, Neurons1=64, Neurons2=16
Fold 1/5
Training Accuracy: 0.9609135985374451, Validation Accuracy: 0.9633440375328064
Fold 2/5
Training Accuracy: 0.952227771282196, Validation Accuracy: 0.9536977410316467
Fold 3/5
Training Accuracy: 0.9668703675270081, Validation Accuracy: 0.9588159322738647
Fold 4/5
Training Accuracy: 0.9707301259040833, Validation Accuracy: 0.9639639854431152
Fold 5/5
Training Accuracy: 0.9588292241096497, Validation Accuracy: 0.9530244469642639
Avg Training Accuracy for current params: 0.9619142174720764
Avg Validation Accuracy for current params: 0.9585692286491394, Avg Validation Loss: 0.1459510788321495

Testing combination: Epochs=70, Learning Rate=0.01, Neurons1=32, Neurons2=32
Fold 1/5
Training Accuracy: 0.9531928300857544, Validation Accuracy: 0.9536977410316467
Fold 2/5
Training Accuracy: 0.9564098715782166, Validation Accuracy: 0.9601286053657532
Fold 3/5
Training Accuracy: 0.9700868725776672, Validation Accuracy: 0.9633204340934753
Fold 4/5
Training Accuracy: 0.9536828398704529, Validation Accuracy: 0.9588159322738647
Fold 5/5
Training Accuracy: 0.9570601582527161, Validation Accuracy: 0.9446589350700378
Avg Training Accuracy for current params: 0.9580865144729614
Avg Validation Accuracy for current params: 0.9561243295669556, Avg Validation Loss: 0.144518581032753

Testing combination: Epochs=70, Learning Rate=0.01, Neurons1=32, Neurons2=16
Fold 1/5
Training Accuracy: 0.9564098715782166, Validation Accuracy: 0.9575562477111816
Fold 2/5
Training Accuracy: 0.9539970755577087, Validation Accuracy: 0.9562700986862183
Fold 3/5
Training Accuracy: 0.9572209715843201, Validation Accuracy: 0.954954981803894
Fold 4/5
Training Accuracy: 0.9469282627105713, Validation Accuracy: 0.945302426815033
Fold 5/5
Training Accuracy: 0.9551302790641785, Validation Accuracy: 0.9485199451446533
Avg Training Accuracy for current params: 0.953937292098999
Avg Validation Accuracy for current params: 0.952520740032196, Avg Validation Loss: 0.16403556615114212

Testing combination: Epochs=70, Learning Rate=0.001, Neurons1=64, Neurons2=32
Fold 1/5
Training Accuracy: 0.9718513488769531, Validation Accuracy: 0.9678456783294678
Fold 2/5
Training Accuracy: 0.9710471034049988, Validation Accuracy: 0.9691318273544312
Fold 3/5
Training Accuracy: 0.9729816913604736, Validation Accuracy: 0.96138995885849
Fold 4/5
Training Accuracy: 0.9662270545959473, Validation Accuracy: 0.9665379524230957
Fold 5/5
Training Accuracy: 0.9737857580184937, Validation Accuracy: 0.9697554707527161
Avg Training Accuracy for current params: 0.9711785912513733
Avg Validation Accuracy for current params: 0.9669321775436401, Avg Validation Loss: 0.12434818744659423

Testing combination: Epochs=70, Learning Rate=0.001, Neurons1=64, Neurons2=16
Fold 1/5
Training Accuracy: 0.9741032719612122, Validation Accuracy: 0.9723472595214844
Fold 2/5
Training Accuracy: 0.9732990264892578, Validation Accuracy: 0.9678456783294678
Fold 3/5
Training Accuracy: 0.9681569933891296, Validation Accuracy: 0.9620334506034851
Fold 4/5
Training Accuracy: 0.9630106091499329, Validation Accuracy: 0.9601029753684998
Fold 5/5
Training Accuracy: 0.9744290709495544, Validation Accuracy: 0.9710424542427063
Avg Training Accuracy for current params: 0.9705997943878174
Avg Validation Accuracy for current params: 0.9666743636131286, Avg Validation Loss: 0.12934018224477767

Testing combination: Epochs=70, Learning Rate=0.001, Neurons1=32, Neurons2=32
Fold 1/5
Training Accuracy: 0.9686343669891357, Validation Accuracy: 0.9659163951873779
Fold 2/5
Training Accuracy: 0.9607527852058411, Validation Accuracy: 0.9607716798782349
Fold 3/5
Training Accuracy: 0.9720167517662048, Validation Accuracy: 0.9588159322738647
Fold 4/5
Training Accuracy: 0.9594724774360657, Validation Accuracy: 0.9601029753684998
Fold 5/5
Training Accuracy: 0.9708909392356873, Validation Accuracy: 0.9633204340934753
Avg Training Accuracy for current params: 0.966353464126587
Avg Validation Accuracy for current params: 0.9617854833602906, Avg Validation Loss: 0.13273968696594238

Testing combination: Epochs=70, Learning Rate=0.001, Neurons1=32, Neurons2=16
Fold 1/5
Training Accuracy: 0.9552838802337646, Validation Accuracy: 0.9588424563407898
Fold 2/5
Training Accuracy: 0.9539970755577087, Validation Accuracy: 0.9517685174942017
Fold 3/5
Training Accuracy: 0.9694435596466064, Validation Accuracy: 0.9620334506034851
Fold 4/5
Training Accuracy: 0.9654229879379272, Validation Accuracy: 0.9646074771881104
Fold 5/5
Training Accuracy: 0.9610807299613953, Validation Accuracy: 0.954954981803894
Avg Training Accuracy for current params: 0.9610456466674805
Avg Validation Accuracy for current params: 0.9584413766860962, Avg Validation Loss: 0.14680608808994294

Najlepšie parametre z Grid Search: {'epochs': 50, 'learning_rate': 0.001, 'n_neurons_1': 64, 'n_neurons_2': 32}
Najlepšia priemerná validácia presnosti: 0.9670600533485413
