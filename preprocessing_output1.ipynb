
Testing combination: Epochs=50, Learning Rate=0.01, Neurons1=64, Neurons2=32
Fold 1/5
Fold 2/5
Fold 3/5
Fold 4/5
Fold 5/5
Avg Validation Accuracy for current params: 0.9624281764030457, Avg Validation Loss: 0.1346756100654602

Testing combination: Epochs=50, Learning Rate=0.01, Neurons1=64, Neurons2=16
Fold 1/5
Fold 2/5
Fold 3/5
Fold 4/5
Fold 5/5
Avg Validation Accuracy for current params: 0.9607551574707032, Avg Validation Loss: 0.14630723893642425

Testing combination: Epochs=50, Learning Rate=0.01, Neurons1=32, Neurons2=32
Fold 1/5
Fold 2/5
Fold 3/5
Fold 4/5
Fold 5/5
Avg Validation Accuracy for current params: 0.9571527123451233, Avg Validation Loss: 0.15121979415416717

Testing combination: Epochs=50, Learning Rate=0.01, Neurons1=32, Neurons2=16
Fold 1/5
Fold 2/5
Fold 3/5
Fold 4/5
Fold 5/5
Avg Validation Accuracy for current params: 0.9570240020751953, Avg Validation Loss: 0.15606054961681365

Testing combination: Epochs=50, Learning Rate=0.001, Neurons1=64, Neurons2=32
Fold 1/5
Fold 2/5
Fold 3/5
Fold 4/5
Fold 5/5
Avg Validation Accuracy for current params: 0.9687330722808838, Avg Validation Loss: 0.11707727611064911

Testing combination: Epochs=50, Learning Rate=0.001, Neurons1=64, Neurons2=16
Fold 1/5
Fold 2/5
Fold 3/5
Fold 4/5
Fold 5/5
Avg Validation Accuracy for current params: 0.9661601424217224, Avg Validation Loss: 0.1312101662158966

Testing combination: Epochs=50, Learning Rate=0.001, Neurons1=32, Neurons2=32
Fold 1/5
Fold 2/5
Fold 3/5
Fold 4/5
Fold 5/5
Avg Validation Accuracy for current params: 0.9586970329284668, Avg Validation Loss: 0.14156974256038665

Testing combination: Epochs=50, Learning Rate=0.001, Neurons1=32, Neurons2=16
Fold 1/5
Fold 2/5
Fold 3/5
Fold 4/5
Fold 5/5
Avg Validation Accuracy for current params: 0.9584397912025452, Avg Validation Loss: 0.14875275194644927

Testing combination: Epochs=70, Learning Rate=0.01, Neurons1=64, Neurons2=32
Fold 1/5
Fold 2/5
Fold 3/5
Fold 4/5
Fold 5/5
Avg Validation Accuracy for current params: 0.9619136214256286, Avg Validation Loss: 0.13553507924079894

Testing combination: Epochs=70, Learning Rate=0.01, Neurons1=64, Neurons2=16
Fold 1/5
Fold 2/5
Fold 3/5
Fold 4/5
Fold 5/5
Avg Validation Accuracy for current params: 0.9621710300445556, Avg Validation Loss: 0.14202382266521454

Testing combination: Epochs=70, Learning Rate=0.01, Neurons1=32, Neurons2=32
Fold 1/5
Fold 2/5
Fold 3/5
Fold 4/5
Fold 5/5
Avg Validation Accuracy for current params: 0.957281231880188, Avg Validation Loss: 0.15262700915336608

Testing combination: Epochs=70, Learning Rate=0.01, Neurons1=32, Neurons2=16
Fold 1/5
Fold 2/5
Fold 3/5
Fold 4/5
Fold 5/5
Avg Validation Accuracy for current params: 0.9552228689193726, Avg Validation Loss: 0.15839834958314897

Testing combination: Epochs=70, Learning Rate=0.001, Neurons1=64, Neurons2=32
Fold 1/5
Fold 2/5
Fold 3/5
Fold 4/5
Fold 5/5
Avg Validation Accuracy for current params: 0.9709211230278015, Avg Validation Loss: 0.11694826185703278

Testing combination: Epochs=70, Learning Rate=0.001, Neurons1=64, Neurons2=16
Fold 1/5
Fold 2/5
Fold 3/5
Fold 4/5
Fold 5/5
Avg Validation Accuracy for current params: 0.9680891513824463, Avg Validation Loss: 0.12057661563158036

Testing combination: Epochs=70, Learning Rate=0.001, Neurons1=32, Neurons2=32
Fold 1/5
Fold 2/5
Fold 3/5
Fold 4/5
Fold 5/5
Avg Validation Accuracy for current params: 0.9602418422698975, Avg Validation Loss: 0.14579124748706818

Testing combination: Epochs=70, Learning Rate=0.001, Neurons1=32, Neurons2=16
Fold 1/5
Fold 2/5
Fold 3/5
Fold 4/5
Fold 5/5
Avg Validation Accuracy for current params: 0.9586974382400513, Avg Validation Loss: 0.15291794538497924

Najlepšie parametre z Grid Search: {'epochs': 70, 'learning_rate': 0.001, 'n_neurons_1': 64, 'n_neurons_2': 32}
Najlepšia priemerná validácia presnosti: 0.9709211230278015

Trénovanie najlepšieho modelu s parametrami: {'epochs': 70, 'learning_rate': 0.001, 'n_neurons_1': 64, 'n_neurons_2': 32}
